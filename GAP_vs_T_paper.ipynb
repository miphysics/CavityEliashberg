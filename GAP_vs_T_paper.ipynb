{
 "cells": [
  {
   "cell_type": "markdown",
   "id": "d757ed37-a35e-43fb-9eed-a2a64bc7c4ac",
   "metadata": {},
   "source": [
    "# Libraries"
   ]
  },
  {
   "cell_type": "code",
   "execution_count": 1,
   "id": "e2cd19ce-ff7d-4bcb-8046-4fcb25082b22",
   "metadata": {},
   "outputs": [],
   "source": [
    "import numpy as np\n",
    "import scipy as sp\n",
    "import matplotlib.pyplot as plt\n",
    "import matplotlib.colors as colors\n",
    "from matplotlib import cm\n",
    "from matplotlib.ticker import LinearLocator,MultipleLocator, AutoMinorLocator\n",
    "from matplotlib import rcParams\n",
    "rcParams['font.family'] = 'serif'\n",
    "rcParams['text.usetex'] = True\n",
    "rcParams['font.size'] = 20"
   ]
  },
  {
   "cell_type": "code",
   "execution_count": 2,
   "id": "787effab-28c0-47fe-b9ae-a870ee37ccf9",
   "metadata": {},
   "outputs": [],
   "source": [
    "PI=np.pi"
   ]
  },
  {
   "cell_type": "markdown",
   "id": "c9ce0f09-70b2-47f8-8e97-949221b0bbde",
   "metadata": {},
   "source": [
    "# Functions"
   ]
  },
  {
   "cell_type": "markdown",
   "id": "e5ae8d3c-a06a-4730-bd0b-ff19eacbf160",
   "metadata": {},
   "source": [
    "### DOS: $~~~~~\\Lambda(E)=\\frac{2}{\\pi}\\frac{E}{\\sqrt{E^2-\\Delta^2}\\sqrt{J^2+\\Delta^2-E^2}}~\\Theta(E-\\Delta)\\Theta(\\sqrt{J^2+\\Delta^2}-E)$"
   ]
  },
  {
   "cell_type": "code",
   "execution_count": 4,
   "id": "5f92aa81-1129-4d4b-b87c-cf012c8d2902",
   "metadata": {},
   "outputs": [],
   "source": [
    "def DOS(E,gap):\n",
    "    return (2/PI)*E/(np.sqrt(np.abs(E**2-gap**2))*np.sqrt(np.abs(1+gap**2-E**2)))\n",
    "def DOS2(E,Ep,gap):\n",
    "    return (4.0/PI**2)*(E/(np.sqrt(np.abs(E**2-gap**2))*np.sqrt(np.abs(1+gap**2-E**2))))*(Ep/(np.sqrt(np.abs(Ep**2-gap**2))*np.sqrt(np.abs(1+gap**2-Ep**2))))"
   ]
  },
  {
   "cell_type": "markdown",
   "id": "0abb5c52-73b8-4549-bfb5-ec5cae299c25",
   "metadata": {},
   "source": [
    "### Photonic spectral function: $~~~~~\\mathrm{Im}D^R_{0}(\\omega)=-\\frac{1}{4\\pi}\\left[\\frac{\\gamma_B}{(\\omega-\\nu_0)^2+\\gamma_B^2}-\\frac{\\gamma_B}{(\\omega+\\nu_0)^2+\\gamma_B^2}\\right]$"
   ]
  },
  {
   "cell_type": "code",
   "execution_count": 5,
   "id": "90a0e772-079f-48ae-a6f0-ba8aaecd796e",
   "metadata": {},
   "outputs": [],
   "source": [
    "def ImDR0(w,nu0,gammaB):\n",
    "    return -(1.0/(4.0*PI))*((gammaB/((w-nu0)**2+gammaB**2))-(gammaB/((w+nu0)**2+gammaB**2)))"
   ]
  },
  {
   "cell_type": "markdown",
   "id": "3bc413ab-e6e9-4869-a915-3721f173f744",
   "metadata": {},
   "source": [
    "### Distribution factor: $~~~~~H_0(\\omega,\\omega')=-4\\left[n_0(\\omega)-n_0(\\omega')\\right]\\left[N_{T_{cav}}(\\omega-\\omega')-N_{T_{cry}}(\\omega-\\omega')\\right]$"
   ]
  },
  {
   "cell_type": "code",
   "execution_count": 6,
   "id": "d2b477c4-86ff-4f04-91bd-72ca36779d3c",
   "metadata": {},
   "outputs": [],
   "source": [
    "def H0(w,wp,Tcry,Tcav):\n",
    "    return (np.tanh(wp/(2*Tcry))- np.tanh(w/(2*Tcry)))*((1.0/np.tanh((wp-w)/(2*Tcav)))-(1.0/np.tanh((wp-w)/(2*Tcry))))"
   ]
  },
  {
   "cell_type": "markdown",
   "id": "1a7f11ca-ea51-4267-99e1-9faa88fd3875",
   "metadata": {},
   "source": [
    "### calculates $-2\\int dE\\Lambda(E)\\frac{\\delta n(E)}{E}$"
   ]
  },
  {
   "cell_type": "code",
   "execution_count": 1,
   "id": "14371469-d653-456e-a247-8eaad1ca901e",
   "metadata": {},
   "outputs": [],
   "source": [
    "#SC\n",
    "def num_integ_SC(E,Ep,gap,Tcry,Tcav,gammaB,nu0):\n",
    "    return (DOS2(E,Ep,gap)/E)*((1+(gap**2)/(E*Ep))*ImDR0(Ep-E,nu0,gammaB)*H0(E,Ep,Tcry,Tcav)-(1-(gap**2)/(E*Ep))*ImDR0(Ep+E,nu0,gammaB)*H0(-E,Ep,Tcry,Tcav))\n",
    "def numSC(eps,gap,Tcry,Tcav,gammaB,nu0):\n",
    "    return sp.integrate.dblquad(num_integ_SC,gap,np.sqrt(1+gap**2),gap,lambda x: x,args=(gap,Tcry,Tcav,gammaB,nu0),epsabs=eps)[0]+sp.integrate.dblquad(num_integ_SC,gap,np.sqrt(1+gap**2),lambda x: x,np.sqrt(1+gap**2),args=(gap,Tcry,Tcav,gammaB,nu0),epsabs=eps)[0]\n",
    "#CDW\n",
    "def num_integ_CDW(E,Ep,gap,Tcry,Tcav,gammaB,nu0):\n",
    "    return (DOS2(E,Ep,gap)/E)*((1-(gap**2)/(E*Ep))*ImDR0(Ep-E,nu0,gammaB)*H0(E,Ep,Tcry,Tcav)-(1+(gap**2)/(E*Ep))*ImDR0(Ep+E,nu0,gammaB)*H0(-E,Ep,Tcry,Tcav))\n",
    "def numCDW(eps,gap,Tcry,Tcav,gammaB,nu0):\n",
    "    return sp.integrate.dblquad(num_integ_CDW,gap,np.sqrt(1+gap**2),gap,lambda x: x,args=(gap,Tcry,Tcav,gammaB,nu0),epsabs=eps)[0]+sp.integrate.dblquad(num_integ_CDW,gap,np.sqrt(1+gap**2),lambda x: x,np.sqrt(1+gap**2),args=(gap,Tcry,Tcav,gammaB,nu0),epsabs=eps)[0]"
   ]
  },
  {
   "cell_type": "markdown",
   "id": "ecea4404-80b3-4f75-b077-0d10f1a547df",
   "metadata": {},
   "source": [
    "#### calculates $\\int dE\\tilde{\\nu}(E)\\frac{\\delta F(E)}{E}$"
   ]
  },
  {
   "cell_type": "code",
   "execution_count": 8,
   "id": "a6a83049-bea8-4e3c-8db2-f26e325bc8d5",
   "metadata": {},
   "outputs": [],
   "source": [
    "# The Numerataors\n",
    "#SC\n",
    "def num_integ_SC(E,Ep,gap,Tcry,Tcav,gammaB,nu0):\n",
    "    return (DOS2(E,Ep,gap)/E)*((1+(gap**2)/(E*Ep))*ImDR0(Ep-E,nu0,gammaB)*H0(E,Ep,Tcry,Tcav)-(1-(gap**2)/(E*Ep))*ImDR0(Ep+E,nu0,gammaB)*H0(-E,Ep,Tcry,Tcav))\n",
    "def numSC(eps,gap,Tcry,Tcav,gammaB,nu0):\n",
    "    return sp.integrate.dblquad(num_integ_SC,gap,np.sqrt(1+gap**2),gap,lambda x: x,args=(gap,Tcry,Tcav,gammaB,nu0),epsabs=eps)[0]+sp.integrate.dblquad(num_integ_SC,gap,np.sqrt(1+gap**2),lambda x: x,np.sqrt(1+gap**2),args=(gap,Tcry,Tcav,gammaB,nu0),epsabs=eps)[0]\n",
    "#CDW\n",
    "def num_integ_CDW(E,Ep,gap,Tcry,Tcav,gammaB,nu0):\n",
    "    return (DOS2(E,Ep,gap)/E)*((1-(gap**2)/(E*Ep))*ImDR0(Ep-E,nu0,gammaB)*H0(E,Ep,Tcry,Tcav)-(1+(gap**2)/(E*Ep))*ImDR0(Ep+E,nu0,gammaB)*H0(-E,Ep,Tcry,Tcav))\n",
    "def numCDW(eps,gap,Tcry,Tcav,gammaB,nu0):\n",
    "    return sp.integrate.dblquad(num_integ_CDW,gap,np.sqrt(1+gap**2),gap,lambda x: x,args=(gap,Tcry,Tcav,gammaB,nu0),epsabs=eps)[0]+sp.integrate.dblquad(num_integ_CDW,gap,np.sqrt(1+gap**2),lambda x: x,np.sqrt(1+gap**2),args=(gap,Tcry,Tcav,gammaB,nu0),epsabs=eps)[0]"
   ]
  },
  {
   "cell_type": "code",
   "execution_count": 9,
   "id": "e9e84197-4962-4a80-bc35-f8d00869be60",
   "metadata": {},
   "outputs": [],
   "source": [
    "#SC\n",
    "def delgapSC(eps,g0,gamma,gap,Tcry,Tcav,gammaB,nu0):\n",
    "    return -(g0**2/gamma)*numSC(eps,gap,Tcry,Tcav,gammaB,nu0)/deN(gap,Tcry)"
   ]
  },
  {
   "cell_type": "code",
   "execution_count": 10,
   "id": "80c022db-9363-4972-a64a-1e2afc9fa7ab",
   "metadata": {},
   "outputs": [],
   "source": [
    "#CDW\n",
    "def delgapCDW(eps,g0,gamma,gap,Tcry,Tcav,gammaB,nu0):\n",
    "    return -(g0**2/gamma)*numCDW(eps,gap,Tcry,Tcav,gammaB,nu0)/deN(gap,Tcry)"
   ]
  },
  {
   "cell_type": "markdown",
   "id": "76c4c907-339a-4c73-9bef-485ba7e654f4",
   "metadata": {},
   "source": [
    "### Thermal gap equation"
   ]
  },
  {
   "cell_type": "code",
   "execution_count": 11,
   "id": "f6a62f87-5440-4153-8ccf-924c395e69bc",
   "metadata": {},
   "outputs": [],
   "source": [
    "#T=0\n",
    "def gapeq0_integ(E,gap):\n",
    "    return DOS(E,gap)/E\n",
    "def gapeq0(gap,kap):\n",
    "    return sp.integrate.quad(gapeq0_integ,gap,np.sqrt(1+gap**2),args=(gap))[0]-1.0/kap\n",
    "#T>0\n",
    "def gap_eq_integ(E,gap,T):\n",
    "    return (DOS(E,gap)/E)*np.tanh(E/(2*T))\n",
    "def gap_eq(gap,T,kap):\n",
    "    return sp.integrate.quad(gap_eq_integ,gap,np.sqrt(1+gap**2),args=(gap,T))[0]-1.0/kap\n",
    "def gap_eq_inv(T,gap,kap):\n",
    "    return sp.integrate.quad(gap_eq_integ,gap,np.sqrt(1+gap**2),args=(gap,T))[0]-1.0/kap"
   ]
  },
  {
   "cell_type": "markdown",
   "id": "4033c0b2-6ba8-4ad8-afae-f0d43a6ef961",
   "metadata": {},
   "source": [
    "### Non-thermal gap equation "
   ]
  },
  {
   "cell_type": "code",
   "execution_count": 12,
   "id": "1599928f-a9eb-4a97-993a-abf45fe8bb07",
   "metadata": {},
   "outputs": [],
   "source": [
    "#SC\n",
    "def gap_nth_SC(gap,Tcry,kap,g0,gamma,gammaB,Tcav,nu0,eps):\n",
    "    return gap_eq(gap,Tcry,kap)-(g0**2/gamma)*numSC(eps,gap,Tcry,Tcav,gammaB,nu0)\n",
    "def gap_nth_SC_inv(Tcry,gap,kap,g0,gamma,gammaB,Tcav,nu0,eps):\n",
    "    return gap_eq(gap,Tcry,kap)-(g0**2/gamma)*numSC(eps,gap,Tcry,Tcav,gammaB,nu0)\n",
    "#CDW\n",
    "def gap_nth_CDW(gap,Tcry,kap,g0,gamma,gammaB,Tcav,nu0,eps):\n",
    "    return gap_eq(gap,Tcry,kap)-(g0**2/gamma)*numCDW(eps,gap,Tcry,Tcav,gammaB,nu0)\n",
    "def gap_nth_CDW_inv(Tcry,gap,kap,g0,gamma,gammaB,Tcav,nu0,eps):\n",
    "    return gap_eq(gap,Tcry,kap)-(g0**2/gamma)*numCDW(eps,gap,Tcry,Tcav,gammaB,nu0)"
   ]
  },
  {
   "cell_type": "markdown",
   "id": "0b202d46-2f72-4484-90a7-37c037cb890b",
   "metadata": {},
   "source": [
    "# Calculations (generate data)"
   ]
  },
  {
   "cell_type": "code",
   "execution_count": 13,
   "id": "7b9e7230-5298-49b2-9f32-03d97ce4f861",
   "metadata": {},
   "outputs": [],
   "source": [
    "NGAP=31\n",
    "GAPlist=np.array([i*0.005 for i in range(0,NGAP)])\n",
    "TEQlist=np.zeros([NGAP])\n",
    "TSClist=np.zeros([NGAP])\n",
    "TCDWlist=np.zeros([NGAP])"
   ]
  },
  {
   "cell_type": "code",
   "execution_count": 14,
   "id": "d649639c-edfa-4ccc-916f-333c92ca203e",
   "metadata": {},
   "outputs": [],
   "source": [
    "KAP=0.5\n",
    "TCAV=0.20\n",
    "G0=0.1\n",
    "GAMMA=0.01\n",
    "GAMMAB=0.1\n",
    "NU0=0.01\n",
    "EPS=0.00001\n",
    "for i in range(0,NGAP):\n",
    "    TEQlist[i]=sp.optimize.fsolve(gap_eq_inv,0.1,args=(GAPlist[i],KAP))[0]"
   ]
  },
  {
   "cell_type": "markdown",
   "id": "0823521b-02db-4d4e-8edb-c81cd5efda6f",
   "metadata": {},
   "source": [
    "# Generate data i.e. $\\Delta$ vs $T_{\\rm cry}$ for a list of $\\nu_0$ and write in file"
   ]
  },
  {
   "cell_type": "code",
   "execution_count": 16,
   "id": "fdfe6287-68d4-4a33-8bad-45d887d05e64",
   "metadata": {},
   "outputs": [
    {
     "name": "stdout",
     "output_type": "stream",
     "text": [
      "nu=0.050 start\n",
      "\n"
     ]
    },
    {
     "name": "stderr",
     "output_type": "stream",
     "text": [
      "/opt/miniconda3/lib/python3.13/site-packages/scipy/integrate/_quadpack_py.py:1260: IntegrationWarning: The integral is probably divergent, or slowly convergent.\n",
      "  quad_r = quad(f, low, high, args=args, full_output=self.full_output,\n",
      "/var/folders/15/xk2stb214vn3c4rfd89q4sgr0000gn/T/ipykernel_33635/1613001264.py:9: RuntimeWarning: The iteration is not making good progress, as measured by the \n",
      " improvement from the last ten iterations.\n",
      "  TCDWlist[i]=sp.optimize.fsolve(gap_nth_CDW_inv,0.1,args=(GAPlist[i],KAP,G0,GAMMA,GAMMAB*NU0,TCAV,NU0,EPS))[0]\n",
      "/var/folders/15/xk2stb214vn3c4rfd89q4sgr0000gn/T/ipykernel_33635/1613001264.py:9: RuntimeWarning: The iteration is not making good progress, as measured by the \n",
      " improvement from the last five Jacobian evaluations.\n",
      "  TCDWlist[i]=sp.optimize.fsolve(gap_nth_CDW_inv,0.1,args=(GAPlist[i],KAP,G0,GAMMA,GAMMAB*NU0,TCAV,NU0,EPS))[0]\n"
     ]
    },
    {
     "name": "stdout",
     "output_type": "stream",
     "text": [
      "nu=0.05 done\n",
      "\n",
      "nu=0.100 start\n",
      "\n",
      "nu=0.10 done\n",
      "\n",
      "nu=0.150 start\n",
      "\n",
      "nu=0.15 done\n",
      "\n",
      "nu=0.200 start\n",
      "\n",
      "nu=0.20 done\n",
      "\n",
      "nu=0.250 start\n",
      "\n",
      "nu=0.25 done\n",
      "\n"
     ]
    }
   ],
   "source": [
    "NNU0=10\n",
    "NU0list=np.array([0.05+i*0.05 for i in range(0,NNU0)])\n",
    "for j in range(0,NNU0):\n",
    "    NU0=NU0list[j]\n",
    "    for i in range(0,NGAP):\n",
    "        TSClist[i]=sp.optimize.fsolve(gap_nth_SC_inv,0.1,args=(GAPlist[i],KAP,G0,GAMMA,GAMMAB*NU0,TCAV,NU0,EPS))[0]\n",
    "        TCDWlist[i]=sp.optimize.fsolve(gap_nth_CDW_inv,0.1,args=(GAPlist[i],KAP,G0,GAMMA,GAMMAB*NU0,TCAV,NU0,EPS))[0]\n",
    "    outfname=(\"./data/GapVsT_g%.2f_gam%.2f_gamB%.2f_Tcav%.2f_nu%.3f_smallgap.dat\"%(G0,GAMMA,GAMMAB,TCAV,NU0))    \n",
    "    file=open(outfname,\"a\")\n",
    "    file.write(\"#GAP\\t\\tT_EQ\\t\\tT_SC\\t\\tT_CDW\\n\")\n",
    "    for i in range(0,NGAP):\n",
    "        file.write(\"%lf\\t%lf\\t%lf\\t%lf\\n\" %(GAPlist[i],TEQlist[i],TSClist[i],TCDWlist[i]))\n",
    "    file.close()"
   ]
  }
 ],
 "metadata": {
  "kernelspec": {
   "display_name": "Python 3 (ipykernel)",
   "language": "python",
   "name": "python3"
  },
  "language_info": {
   "codemirror_mode": {
    "name": "ipython",
    "version": 3
   },
   "file_extension": ".py",
   "mimetype": "text/x-python",
   "name": "python",
   "nbconvert_exporter": "python",
   "pygments_lexer": "ipython3",
   "version": "3.13.2"
  }
 },
 "nbformat": 4,
 "nbformat_minor": 5
}
